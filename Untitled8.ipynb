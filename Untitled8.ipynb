{
 "cells": [
  {
   "cell_type": "code",
   "execution_count": 163,
   "id": "afda8ce8-592a-4943-b6e0-4d5ccd282030",
   "metadata": {},
   "outputs": [],
   "source": [
    "import pandas as pd\n",
    "import requests\n",
    "from bs4 import BeautifulSoup\n",
    "import numpy as np"
   ]
  },
  {
   "cell_type": "code",
   "execution_count": 179,
   "id": "a74e5562-7956-4a9d-a5a0-76048a8b5be9",
   "metadata": {},
   "outputs": [
    {
     "name": "stdout",
     "output_type": "stream",
     "text": [
      "               Phone_name discounted_price Actual_price Discount_applied\n",
      "0    Xiaomi Redmi Note 13       Rs  45,999   Rs  52,999          13% OFF\n",
      "1          Nokia 106 2023        Rs  4,299    Rs  4,999          14% OFF\n",
      "2       Nokia 105 Classic        Rs  3,699    Rs  4,199          12% OFF\n",
      "3          Nokia 105 2023        Rs  4,099    Rs  4,699          13% OFF\n",
      "4         VGO TEL Note 23       Rs  27,299   Rs  31,999          15% OFF\n",
      "..                    ...              ...          ...              ...\n",
      "677            Calme C888        Rs  3,299          NaN              NaN\n",
      "678       Memobile ismart        Rs  3,198          NaN              NaN\n",
      "679      Gresso SILK SLIM        Rs  3,400          NaN              NaN\n",
      "680       XMobile X6 Lite        Rs  3,299          NaN              NaN\n",
      "681             Calme C16        Rs  2,999          NaN              NaN\n",
      "\n",
      "[682 rows x 4 columns]\n"
     ]
    }
   ],
   "source": [
    "import requests\n",
    "from bs4 import BeautifulSoup\n",
    "import pandas as pd\n",
    "import numpy as np\n",
    "\n",
    "final = pd.DataFrame()\n",
    "\n",
    "for j in range(1, 21):\n",
    "    webpage = requests.get('https://priceoye.pk/mobiles?page={}'.format(j)).text\n",
    "    soup = BeautifulSoup(webpage, 'lxml')\n",
    "\n",
    "    ph_names = []\n",
    "    disc_price = []\n",
    "    Act_price = []\n",
    "    disc_applied = []\n",
    "\n",
    "    company = soup.find_all('div', class_='detail-box')\n",
    "    for i in company:\n",
    "        try:\n",
    "            ph_names.append(i.find('div', class_='p-title bold h5').text.strip())\n",
    "        except:\n",
    "            ph_names.append(np.nan)\n",
    "        try:\n",
    "            disc_price.append(i.find('div', class_='price-box p1').text.strip())\n",
    "        except:\n",
    "            disc_price.append(np.nan)        \n",
    "        try:\n",
    "            Act_price.append(i.find('div', class_='price-diff-retail').text.strip())\n",
    "        except:\n",
    "            Act_price.append(np.nan)\n",
    "        try:\n",
    "            disc_applied.append(i.find('div', class_='price-diff-saving').text.strip())\n",
    "        except:\n",
    "            disc_applied.append(np.nan)\n",
    "\n",
    "    df = pd.DataFrame({\n",
    "        'Phone_name': ph_names,\n",
    "        'discounted_price': disc_price,\n",
    "        'Actual_price': Act_price,\n",
    "        'Discount_applied': disc_applied,\n",
    "    })\n",
    "\n",
    "    final = pd.concat([final, df], ignore_index=True)\n",
    "\n",
    "# Now 'final' DataFrame contains all the data\n",
    "print(final)\n"
   ]
  },
  {
   "cell_type": "code",
   "execution_count": 177,
   "id": "a8605f83-c113-43c3-939e-9b7da58b059d",
   "metadata": {},
   "outputs": [
    {
     "data": {
      "text/html": [
       "<div>\n",
       "<style scoped>\n",
       "    .dataframe tbody tr th:only-of-type {\n",
       "        vertical-align: middle;\n",
       "    }\n",
       "\n",
       "    .dataframe tbody tr th {\n",
       "        vertical-align: top;\n",
       "    }\n",
       "\n",
       "    .dataframe thead th {\n",
       "        text-align: right;\n",
       "    }\n",
       "</style>\n",
       "<table border=\"1\" class=\"dataframe\">\n",
       "  <thead>\n",
       "    <tr style=\"text-align: right;\">\n",
       "      <th></th>\n",
       "      <th>Phone_name</th>\n",
       "      <th>discounted_price</th>\n",
       "      <th>Actual_price</th>\n",
       "      <th>Discount_applied</th>\n",
       "    </tr>\n",
       "  </thead>\n",
       "  <tbody>\n",
       "    <tr>\n",
       "      <th>677</th>\n",
       "      <td>Calme C888</td>\n",
       "      <td>Rs  3,299</td>\n",
       "      <td>NaN</td>\n",
       "      <td>NaN</td>\n",
       "    </tr>\n",
       "    <tr>\n",
       "      <th>678</th>\n",
       "      <td>Memobile ismart</td>\n",
       "      <td>Rs  3,198</td>\n",
       "      <td>NaN</td>\n",
       "      <td>NaN</td>\n",
       "    </tr>\n",
       "    <tr>\n",
       "      <th>679</th>\n",
       "      <td>Gresso SILK SLIM</td>\n",
       "      <td>Rs  3,400</td>\n",
       "      <td>NaN</td>\n",
       "      <td>NaN</td>\n",
       "    </tr>\n",
       "    <tr>\n",
       "      <th>680</th>\n",
       "      <td>XMobile X6 Lite</td>\n",
       "      <td>Rs  3,299</td>\n",
       "      <td>NaN</td>\n",
       "      <td>NaN</td>\n",
       "    </tr>\n",
       "    <tr>\n",
       "      <th>681</th>\n",
       "      <td>Calme C16</td>\n",
       "      <td>Rs  2,999</td>\n",
       "      <td>NaN</td>\n",
       "      <td>NaN</td>\n",
       "    </tr>\n",
       "  </tbody>\n",
       "</table>\n",
       "</div>"
      ],
      "text/plain": [
       "           Phone_name discounted_price Actual_price Discount_applied\n",
       "677        Calme C888        Rs  3,299          NaN              NaN\n",
       "678   Memobile ismart        Rs  3,198          NaN              NaN\n",
       "679  Gresso SILK SLIM        Rs  3,400          NaN              NaN\n",
       "680   XMobile X6 Lite        Rs  3,299          NaN              NaN\n",
       "681         Calme C16        Rs  2,999          NaN              NaN"
      ]
     },
     "execution_count": 177,
     "metadata": {},
     "output_type": "execute_result"
    }
   ],
   "source": [
    "final.tail()"
   ]
  },
  {
   "cell_type": "code",
   "execution_count": 180,
   "id": "ee22d9b0-fa70-4797-8df8-aad0c3b8ffba",
   "metadata": {},
   "outputs": [],
   "source": [
    "final.to_csv('price_oye_mobiles_data.csv')"
   ]
  },
  {
   "cell_type": "code",
   "execution_count": null,
   "id": "aef81293-a0ab-4a9e-b44a-2a96c06d31f3",
   "metadata": {},
   "outputs": [],
   "source": []
  },
  {
   "cell_type": "code",
   "execution_count": null,
   "id": "af7f95df-f7c9-4eda-93e0-832f27ead7e5",
   "metadata": {},
   "outputs": [],
   "source": []
  },
  {
   "cell_type": "code",
   "execution_count": null,
   "id": "824523f4-9af0-440c-80f6-ec1174179adc",
   "metadata": {},
   "outputs": [],
   "source": []
  }
 ],
 "metadata": {
  "kernelspec": {
   "display_name": "Python 3 (ipykernel)",
   "language": "python",
   "name": "python3"
  },
  "language_info": {
   "codemirror_mode": {
    "name": "ipython",
    "version": 3
   },
   "file_extension": ".py",
   "mimetype": "text/x-python",
   "name": "python",
   "nbconvert_exporter": "python",
   "pygments_lexer": "ipython3",
   "version": "3.12.2"
  }
 },
 "nbformat": 4,
 "nbformat_minor": 5
}
